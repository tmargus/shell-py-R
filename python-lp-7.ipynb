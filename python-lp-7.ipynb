{
 "metadata": {
  "name": "",
  "signature": "sha256:4186ffea2c8aa70b58dbdca35776a91a71cc40544af69c604dbed58f5ca38750"
 },
 "nbformat": 3,
 "nbformat_minor": 0,
 "worksheets": [
  {
   "cells": [
    {
     "cell_type": "heading",
     "level": 3,
     "metadata": {},
     "source": [
      "Modules"
     ]
    },
    {
     "cell_type": "markdown",
     "metadata": {},
     "source": [
      "Moodulid  on installeeritud *Library*  kataloogi. Info Python'i modulite kohta vt. https://docs.python.org/3.4/library/ "
     ]
    },
    {
     "cell_type": "heading",
     "level": 3,
     "metadata": {},
     "source": [
      "os moodul"
     ]
    },
    {
     "cell_type": "markdown",
     "metadata": {},
     "source": [
      "lisab Pythoni'le valiku operatsioonis\u00fcsteemi k\u00e4ske. K\u00e4skude loetelu vt. https://docs.python.org/3.4/library/os.html   "
     ]
    },
    {
     "cell_type": "code",
     "collapsed": false,
     "input": [
      "import os\n",
      "os"
     ],
     "language": "python",
     "metadata": {},
     "outputs": [
      {
       "metadata": {},
       "output_type": "pyout",
       "prompt_number": 5,
       "text": [
        "<module 'os' from '/Users/tmargus/py3/bin/../lib/python3.4/os.py'>"
       ]
      }
     ],
     "prompt_number": 5
    },
    {
     "cell_type": "code",
     "collapsed": false,
     "input": [
      "os.getcwd()"
     ],
     "language": "python",
     "metadata": {},
     "outputs": [
      {
       "metadata": {},
       "output_type": "pyout",
       "prompt_number": 2,
       "text": [
        "'/Users/tmargus/git/shell-py-R'"
       ]
      }
     ],
     "prompt_number": 2
    },
    {
     "cell_type": "code",
     "collapsed": false,
     "input": [
      "os.getlogin()"
     ],
     "language": "python",
     "metadata": {},
     "outputs": [
      {
       "metadata": {},
       "output_type": "pyout",
       "prompt_number": 3,
       "text": [
        "'tmargus'"
       ]
      }
     ],
     "prompt_number": 3
    },
    {
     "cell_type": "markdown",
     "metadata": {},
     "source": [
      "Mooduli **os** meetodite/funktsioonide loetelu"
     ]
    },
    {
     "cell_type": "code",
     "collapsed": false,
     "input": [
      "dir(os)"
     ],
     "language": "python",
     "metadata": {},
     "outputs": []
    },
    {
     "cell_type": "markdown",
     "metadata": {},
     "source": [
      "Meetodi/funktsiooni  *`.listdir`*  moodulis **`os`** HELP"
     ]
    },
    {
     "cell_type": "code",
     "collapsed": false,
     "input": [
      "help(os.listdir)"
     ],
     "language": "python",
     "metadata": {},
     "outputs": [
      {
       "output_type": "stream",
       "stream": "stdout",
       "text": [
        "Help on built-in function listdir in module posix:\n",
        "\n",
        "listdir(...)\n",
        "    listdir(path='.') -> list_of_filenames\n",
        "    \n",
        "    Return a list containing the names of the files in the directory.\n",
        "    The list is in arbitrary order.  It does not include the special\n",
        "    entries '.' and '..' even if they are present in the directory.\n",
        "    \n",
        "    path can be specified as either str or bytes.  If path is bytes,\n",
        "      the filenames returned will also be bytes; in all other circumstances\n",
        "      the filenames returned will be str.\n",
        "    On some platforms, path may also be specified as an open file descriptor;\n",
        "      the file descriptor must refer to a directory.\n",
        "      If this functionality is unavailable, using it raises NotImplementedError.\n",
        "\n"
       ]
      }
     ],
     "prompt_number": 13
    },
    {
     "cell_type": "code",
     "collapsed": false,
     "input": [
      "os.listdir()"
     ],
     "language": "python",
     "metadata": {},
     "outputs": [
      {
       "metadata": {},
       "output_type": "pyout",
       "prompt_number": 14,
       "text": [
        "['.git',\n",
        " '.ipynb_checkpoints',\n",
        " '__pycache__',\n",
        " 'blast_tab_hbb.txt',\n",
        " 'Erki Aun 5.ipynb',\n",
        " 'failid',\n",
        " 'IRC3_URf90_187.fasta',\n",
        " 'koodi_kontrollimine.ipynb',\n",
        " 'Mark_G_5.ipynb',\n",
        " 'Mikk N 5.ipynb',\n",
        " 'Modules.ipynb',\n",
        " 'proov.txt',\n",
        " 'python-lp-4.ipynb',\n",
        " 'python-lp-5-files.ipynb',\n",
        " 'python-lp-5.ipynb',\n",
        " 'python-lp-6.ipynb',\n",
        " 'README.md',\n",
        " 'Restriktaas-ver-2.ipynb',\n",
        " 'seq1.fa',\n",
        " 'seq134.fa',\n",
        " 'seq3.fa',\n",
        " 'seq4.fa',\n",
        " 'shell-fs-1.ipynb',\n",
        " 'too4_Mark_Gantsovski_checkpoint.ipynb',\n",
        " 'too_5.ipynb',\n",
        " 'too_6.ipynb',\n",
        " 'Untitled0.ipynb']"
       ]
      }
     ],
     "prompt_number": 14
    },
    {
     "cell_type": "markdown",
     "metadata": {},
     "source": [
      "**shelli k\u00e4su k\u00e4ivitamine**"
     ]
    },
    {
     "cell_type": "code",
     "collapsed": false,
     "input": [
      "os.popen('ls *.fa','r').read()"
     ],
     "language": "python",
     "metadata": {},
     "outputs": [
      {
       "metadata": {},
       "output_type": "pyout",
       "prompt_number": 23,
       "text": [
        "'seq1.fa\\nseq134.fa\\nseq3.fa\\nseq4.fa\\n'"
       ]
      }
     ],
     "prompt_number": 23
    },
    {
     "cell_type": "markdown",
     "metadata": {},
     "source": [
      "shelli k\u00e4su k\u00e4ivitamine **ja tulemuse lugeine muutujasse**"
     ]
    },
    {
     "cell_type": "code",
     "collapsed": false,
     "input": [
      "# -F v\u00f5ti lisab kataloogile \"/\"\n",
      "# grep \\/  eraldab loetelust aninult kataloogid\n",
      "# .read()  on tulemuse lugeiseks\n",
      "dir_ls=os.popen('ls -F | grep \\/','r').read()"
     ],
     "language": "python",
     "metadata": {},
     "outputs": [],
     "prompt_number": 24
    },
    {
     "cell_type": "code",
     "collapsed": false,
     "input": [
      "# tee midagi [print()] iga liikmega muutujas\n",
      "for item in dir_ls.split('\\n'):\n",
      "    print (item)"
     ],
     "language": "python",
     "metadata": {},
     "outputs": [
      {
       "output_type": "stream",
       "stream": "stdout",
       "text": [
        "__pycache__/\n",
        "failid/\n",
        "\n"
       ]
      }
     ],
     "prompt_number": 25
    },
    {
     "cell_type": "markdown",
     "metadata": {},
     "source": [
      "Selektiivne import  - moodul  `sys` n\u00e4ide. vt ka. https://docs.python.org/3/library/sys.html"
     ]
    },
    {
     "cell_type": "code",
     "collapsed": false,
     "input": [
      "import mymod"
     ],
     "language": "python",
     "metadata": {},
     "outputs": [],
     "prompt_number": 1
    },
    {
     "cell_type": "code",
     "collapsed": false,
     "input": [
      "from sys import version"
     ],
     "language": "python",
     "metadata": {},
     "outputs": [],
     "prompt_number": 18
    },
    {
     "cell_type": "code",
     "collapsed": false,
     "input": [
      "print (version)"
     ],
     "language": "python",
     "metadata": {},
     "outputs": [
      {
       "output_type": "stream",
       "stream": "stdout",
       "text": [
        "3.4.1 (default, Sep 20 2014, 19:44:17) \n",
        "[GCC 4.2.1 Compatible Apple LLVM 5.1 (clang-503.0.40)]\n"
       ]
      }
     ],
     "prompt_number": 21
    },
    {
     "cell_type": "code",
     "collapsed": false,
     "input": [
      "from sys import version as ver\n",
      "ver"
     ],
     "language": "python",
     "metadata": {},
     "outputs": [
      {
       "metadata": {},
       "output_type": "pyout",
       "prompt_number": 22,
       "text": [
        "'3.4.1 (default, Sep 20 2014, 19:44:17) \\n[GCC 4.2.1 Compatible Apple LLVM 5.1 (clang-503.0.40)]'"
       ]
      }
     ],
     "prompt_number": 22
    },
    {
     "cell_type": "code",
     "collapsed": false,
     "input": [
      "import sys\n",
      "sys.path"
     ],
     "language": "python",
     "metadata": {},
     "outputs": [
      {
       "metadata": {},
       "output_type": "pyout",
       "prompt_number": 2,
       "text": [
        "['',\n",
        " '/Users/tmargus/py3/lib/python34.zip',\n",
        " '/Users/tmargus/py3/lib/python3.4',\n",
        " '/Users/tmargus/py3/lib/python3.4/plat-darwin',\n",
        " '/Users/tmargus/py3/lib/python3.4/lib-dynload',\n",
        " '/opt/local/Library/Frameworks/Python.framework/Versions/3.4/lib/python3.4',\n",
        " '/opt/local/Library/Frameworks/Python.framework/Versions/3.4/lib/python3.4/plat-darwin',\n",
        " '/Users/tmargus/py3/lib/python3.4/site-packages',\n",
        " '/Users/tmargus/py3/lib/python3.4/site-packages/IPython/extensions']"
       ]
      }
     ],
     "prompt_number": 2
    },
    {
     "cell_type": "heading",
     "level": 3,
     "metadata": {},
     "source": [
      "Tee oma Moodul"
     ]
    },
    {
     "cell_type": "markdown",
     "metadata": {},
     "source": [
      "Moodul on lihtne teksti fail, mis peab l\u00f5ppema laiendiga **`.py`**. Moodul fail peab importimiseks olema kas jooksvas kataloogis (kuskohast me python interpretaatori k\u00e4ivitasime) v\u00f5i *Library* kataloogis kus, on ka k\u00f5ik teised Moodulite failid."
     ]
    },
    {
     "cell_type": "code",
     "collapsed": false,
     "input": [
      "#!/usr/bin/env python\n",
      "# Filename: mymod.py\n",
      "\n",
      "def sayhi():\n",
      "    print('Oi, see moodul r\u00e4\u00e4gib !!!')\n",
      "\n",
      "version = '0.1'\n",
      "\n",
      "# End of mymod.py"
     ],
     "language": "python",
     "metadata": {},
     "outputs": [],
     "prompt_number": 73
    },
    {
     "cell_type": "markdown",
     "metadata": {},
     "source": [
      "Salvesta \u00fclaltoodud tekstil\u00f5ik failiks nimega **mymod.py**"
     ]
    },
    {
     "cell_type": "code",
     "collapsed": false,
     "input": [
      "import mymod\n",
      "mymod.sayhi()"
     ],
     "language": "python",
     "metadata": {},
     "outputs": [
      {
       "output_type": "stream",
       "stream": "stdout",
       "text": [
        "Oi, see moodul r\u00e4\u00e4gib!!!\n"
       ]
      }
     ],
     "prompt_number": 74
    },
    {
     "cell_type": "heading",
     "level": 4,
     "metadata": {},
     "source": [
      "Math modul"
     ]
    },
    {
     "cell_type": "markdown",
     "metadata": {},
     "source": [
      "Math mooduliga kaasa tulev funktsionaalsus on detailselt kirjas Python'i dokumentatsioonis https://docs.python.org/3.4/library/math.html "
     ]
    },
    {
     "cell_type": "code",
     "collapsed": false,
     "input": [
      "# math moodulist impordime k\u00f5ik \n",
      "from math import *\n",
      "x=30\n",
      "sin(x)"
     ],
     "language": "python",
     "metadata": {},
     "outputs": [
      {
       "metadata": {},
       "output_type": "pyout",
       "prompt_number": 75,
       "text": [
        "-0.9880316240928618"
       ]
      }
     ],
     "prompt_number": 75
    },
    {
     "cell_type": "code",
     "collapsed": false,
     "input": [
      "pi"
     ],
     "language": "python",
     "metadata": {},
     "outputs": [
      {
       "metadata": {},
       "output_type": "pyout",
       "prompt_number": 39,
       "text": [
        "3.141592653589793"
       ]
      }
     ],
     "prompt_number": 39
    },
    {
     "cell_type": "code",
     "collapsed": false,
     "input": [
      "e"
     ],
     "language": "python",
     "metadata": {},
     "outputs": [
      {
       "metadata": {},
       "output_type": "pyout",
       "prompt_number": 40,
       "text": [
        "2.718281828459045"
       ]
      }
     ],
     "prompt_number": 40
    },
    {
     "cell_type": "markdown",
     "metadata": {},
     "source": [
      "`sum` ja `math`**`.fsum`** - fsum k\u00e4sitleb ujukoma arve korrektsemalt."
     ]
    },
    {
     "cell_type": "code",
     "collapsed": false,
     "input": [
      "sum([.1, .1, .1, .1, .1, .1, .1, .1, .1, .1])"
     ],
     "language": "python",
     "metadata": {},
     "outputs": [
      {
       "metadata": {},
       "output_type": "pyout",
       "prompt_number": 36,
       "text": [
        "0.9999999999999999"
       ]
      }
     ],
     "prompt_number": 36
    },
    {
     "cell_type": "code",
     "collapsed": false,
     "input": [
      "fsum([.1, .1, .1, .1, .1, .1, .1, .1, .1, .1])"
     ],
     "language": "python",
     "metadata": {},
     "outputs": [
      {
       "metadata": {},
       "output_type": "pyout",
       "prompt_number": 42,
       "text": [
        "1.0"
       ]
      }
     ],
     "prompt_number": 42
    },
    {
     "cell_type": "heading",
     "level": 4,
     "metadata": {},
     "source": [
      "Random  moodul"
     ]
    },
    {
     "cell_type": "code",
     "collapsed": false,
     "input": [
      "import random"
     ],
     "language": "python",
     "metadata": {},
     "outputs": [],
     "prompt_number": 2
    },
    {
     "cell_type": "code",
     "collapsed": false,
     "input": [
      "# juhuslik arv etteantud vahemkust (start,stop)\n",
      "random.randint(0,3)"
     ],
     "language": "python",
     "metadata": {},
     "outputs": [
      {
       "metadata": {},
       "output_type": "pyout",
       "prompt_number": 14,
       "text": [
        "1"
       ]
      }
     ],
     "prompt_number": 14
    },
    {
     "cell_type": "code",
     "collapsed": false,
     "input": [
      "# juhuslik arv 0 ja 1 vahel\n",
      "random.random()"
     ],
     "language": "python",
     "metadata": {},
     "outputs": [
      {
       "metadata": {},
       "output_type": "pyout",
       "prompt_number": 17,
       "text": [
        "0.8741164579183119"
       ]
      }
     ],
     "prompt_number": 17
    },
    {
     "cell_type": "code",
     "collapsed": false,
     "input": [
      "# juhuslik valik lotelust\n",
      "random.choice(['A', 'b', 'C','0' ])"
     ],
     "language": "python",
     "metadata": {},
     "outputs": [
      {
       "metadata": {},
       "output_type": "pyout",
       "prompt_number": 25,
       "text": [
        "'b'"
       ]
      }
     ],
     "prompt_number": 25
    },
    {
     "cell_type": "code",
     "collapsed": false,
     "input": [
      "# Etteantud loetelust juhuslikult, ilma \u00fclekattata, etteantud kord elemente\n",
      "# len(mylist) peab olema =< kui etteantud arv  \n",
      "mylist=['A', 'b', 'C', '0', 'C', 'G', 'T']\n",
      "random.sample(mylist, 5)"
     ],
     "language": "python",
     "metadata": {},
     "outputs": [
      {
       "metadata": {},
       "output_type": "pyout",
       "prompt_number": 28,
       "text": [
        "['0', 'C', 'b', 'C', 'A']"
       ]
      }
     ],
     "prompt_number": 28
    },
    {
     "cell_type": "code",
     "collapsed": false,
     "input": [
      "# reaorganiseerib listi\n",
      "mylist=['A', 'b', 'C', '0', 'C', 'G', 'T']\n",
      "random.shuffle(mylist)\n",
      "mylist"
     ],
     "language": "python",
     "metadata": {},
     "outputs": [
      {
       "metadata": {},
       "output_type": "pyout",
       "prompt_number": 33,
       "text": [
        "['A', 'G', 'C', 'C', '0', 'T', 'b']"
       ]
      }
     ],
     "prompt_number": 33
    },
    {
     "cell_type": "heading",
     "level": 4,
     "metadata": {},
     "source": [
      "Juhuslikest koodonites koosneva j\u00e4rjestuse tekitamine"
     ]
    },
    {
     "cell_type": "markdown",
     "metadata": {},
     "source": [
      "1. Koosta funktsioon juhuslik nukleotiidi esitamiseks\n",
      "2. koosta funktsioon juhuslikest nukleotiididest tripleti moodustamiseks\n",
      "3. Koosta funktsioon juhuslikest triplettidest eteantud pikkusega j\u00e4rjestuse genereerimiseks"
     ]
    },
    {
     "cell_type": "code",
     "collapsed": false,
     "input": [
      "'UCAG'[2]"
     ],
     "language": "python",
     "metadata": {},
     "outputs": [
      {
       "metadata": {},
       "output_type": "pyout",
       "prompt_number": 41,
       "text": [
        "'A'"
       ]
      }
     ],
     "prompt_number": 41
    },
    {
     "cell_type": "code",
     "collapsed": false,
     "input": [
      "from random import randint\n",
      "RNAflag = False\n",
      "# 'TCAG'[randint(0,3)]\n",
      "('UCAG'if RNAflag else 'TCAG')[randint(0,3)]"
     ],
     "language": "python",
     "metadata": {},
     "outputs": [
      {
       "metadata": {},
       "output_type": "pyout",
       "prompt_number": 9,
       "text": [
        "'G'"
       ]
      }
     ],
     "prompt_number": 9
    },
    {
     "cell_type": "code",
     "collapsed": false,
     "input": [
      "# 1. funktsioon \n",
      "def rand_base(RNAflage = False):\n",
      "    return  ('UCAG'if RNAflag else 'TCAG')[randint(0,3)]"
     ],
     "language": "python",
     "metadata": {},
     "outputs": [],
     "prompt_number": 14
    },
    {
     "cell_type": "code",
     "collapsed": false,
     "input": [
      "# 2. koodoni koostamine\n",
      "# rand_base1 + rand_base2 + rand_base3\n",
      "def rand_koodon(RNAflage = False):\n",
      "    return rand_base(RNAflag)+rand_base(RNAflag)+rand_base(RNAflag)"
     ],
     "language": "python",
     "metadata": {},
     "outputs": [],
     "prompt_number": 15
    },
    {
     "cell_type": "code",
     "collapsed": false,
     "input": [
      "rand_koodon()"
     ],
     "language": "python",
     "metadata": {},
     "outputs": [
      {
       "metadata": {},
       "output_type": "pyout",
       "prompt_number": 16,
       "text": [
        "'ACA'"
       ]
      }
     ],
     "prompt_number": 16
    },
    {
     "cell_type": "code",
     "collapsed": false,
     "input": [
      "seq=''\n",
      "for n in range(0,10):\n",
      "    seq +=rand_koodon() \n",
      "seq"
     ],
     "language": "python",
     "metadata": {},
     "outputs": [
      {
       "metadata": {},
       "output_type": "pyout",
       "prompt_number": 18,
       "text": [
        "'ACGAGGGGAACCGAGAGCGATCAACCGTGA'"
       ]
      }
     ],
     "prompt_number": 18
    },
    {
     "cell_type": "code",
     "collapsed": false,
     "input": [
      "# kirjutame eelneva funktsioonina\n",
      "def random_koodons_seq(min=0, max=10, RNAflag = False):\n",
      "    seq=''\n",
      "    for n in range(min, max):\n",
      "        seq +=rand_koodon(RNAflag)\n",
      "    return seq"
     ],
     "language": "python",
     "metadata": {},
     "outputs": [],
     "prompt_number": 64
    },
    {
     "cell_type": "code",
     "collapsed": false,
     "input": [
      "random_koodons_seq()"
     ],
     "language": "python",
     "metadata": {},
     "outputs": [
      {
       "metadata": {},
       "output_type": "pyout",
       "prompt_number": 65,
       "text": [
        "'CCTAAGCTCGCAGATTCGCCTTTGAATCGT'"
       ]
      }
     ],
     "prompt_number": 65
    },
    {
     "cell_type": "code",
     "collapsed": false,
     "input": [
      "[rand_koodon() for n in range(0,10)]"
     ],
     "language": "python",
     "metadata": {},
     "outputs": [
      {
       "metadata": {},
       "output_type": "pyout",
       "prompt_number": 56,
       "text": [
        "['GGG', 'ACC', 'GTT', 'TAA', 'AGG', 'TCT', 'TCA', 'CGT', 'TAT', 'CAA']"
       ]
      }
     ],
     "prompt_number": 56
    },
    {
     "cell_type": "heading",
     "level": 4,
     "metadata": {},
     "source": [
      "re moodul - Regulaaravaldis"
     ]
    },
    {
     "cell_type": "markdown",
     "metadata": {},
     "source": [
      "Moodul documentatsioon ja k\u00e4sud  https://docs.python.org/3.4/library/re.html\n",
      "\n",
      "Regulaaravaldise moodul **re** teeb selle k\u00e4ttesaadavaks ka python'i programmi sees. Kuna aga paljud regulaaravaldise s\u00fcmbolid kattuvad python'i keele jaoks t\u00e4hendust omavate s\u00fcmbolitega, tuleb enne \u00f6elda millega tegu on. N\u00e4iteks: print k\u00e4sus eris\u00fcmbolite esitmine t\u00e4hem\u00e4rkidena lisatakse **r** enne jutum\u00e4rke:\n",
      "\n",
      "print (r\"\\t\\n\")"
     ]
    },
    {
     "cell_type": "code",
     "collapsed": false,
     "input": [
      "print (r\"\\t\\n\")"
     ],
     "language": "python",
     "metadata": {},
     "outputs": [
      {
       "output_type": "stream",
       "stream": "stdout",
       "text": [
        "\\t\\n\n"
       ]
      }
     ],
     "prompt_number": 26
    },
    {
     "cell_type": "code",
     "collapsed": false,
     "input": [
      "import re"
     ],
     "language": "python",
     "metadata": {},
     "outputs": [],
     "prompt_number": 19
    },
    {
     "cell_type": "code",
     "collapsed": false,
     "input": [
      "# \u00dcldkuju\n",
      "# re.search(pattern, string)"
     ],
     "language": "python",
     "metadata": {},
     "outputs": []
    },
    {
     "cell_type": "code",
     "collapsed": false,
     "input": [
      "seq = \"ATCGCGAATTCACCCGTGTGGGACCG\"\n",
      "if re.search(r\"GAATTC\", seq):\n",
      "    print ('Leidsin saidi!') "
     ],
     "language": "python",
     "metadata": {},
     "outputs": [
      {
       "output_type": "stream",
       "stream": "stdout",
       "text": [
        "Leidsin saidi!\n"
       ]
      }
     ],
     "prompt_number": 29
    },
    {
     "cell_type": "code",
     "collapsed": false,
     "input": [
      "seq = \"ATCGCGAATTCACCCGTGTGGGTCG\"\n",
      "if re.search(r\"GG(A|T)CC\", seq):\n",
      "    print ('Leidsin saidi GG(A v\u00f5i T)CC!') "
     ],
     "language": "python",
     "metadata": {},
     "outputs": [
      {
       "output_type": "stream",
       "stream": "stdout",
       "text": [
        "Leidsin saidi GG(A v\u00f5i T)CC!\n"
       ]
      }
     ],
     "prompt_number": 34
    },
    {
     "cell_type": "code",
     "collapsed": false,
     "input": [
      "seq = \"ATCGCGAATTCACCCGTGTGGGCCCG\"\n",
      "if re.search(r\"GG[ATCG]CC\", seq):\n",
      "    print ('Leidsin saidi GG[ATCG]CC!') "
     ],
     "language": "python",
     "metadata": {},
     "outputs": [
      {
       "output_type": "stream",
       "stream": "stdout",
       "text": [
        "Leidsin saidi GG[ATCG]CC!\n"
       ]
      }
     ],
     "prompt_number": 36
    },
    {
     "cell_type": "markdown",
     "metadata": {},
     "source": [
      "**Leitud mustri esitamine**"
     ]
    },
    {
     "cell_type": "code",
     "collapsed": false,
     "input": [
      "dna = \"ATGACGTACGTACGACTG\"\n",
      "# store the match object in the variable m\n",
      "m = re.search(r\"GA[ATGC]{3}AC\", dna)\n",
      "print(m.group())"
     ],
     "language": "python",
     "metadata": {},
     "outputs": [
      {
       "output_type": "stream",
       "stream": "stdout",
       "text": [
        "GACGTAC\n"
       ]
      }
     ],
     "prompt_number": 37
    },
    {
     "cell_type": "markdown",
     "metadata": {},
     "source": [
      "**positsioon**"
     ]
    },
    {
     "cell_type": "code",
     "collapsed": false,
     "input": [
      "dna = \"ATGACGTACGTACGACTG\"\n",
      "m = re.search(r\"GA([ATGC]{3})AC([ATGC]{2})AC\", dna)\n",
      "print(\"start: \" + str(m.start()))\n",
      "print(\"end: \" + str(m.end()))"
     ],
     "language": "python",
     "metadata": {},
     "outputs": [
      {
       "output_type": "stream",
       "stream": "stdout",
       "text": [
        "start: 2\n",
        "end: 13\n"
       ]
      }
     ],
     "prompt_number": 39
    }
   ],
   "metadata": {}
  }
 ]
}