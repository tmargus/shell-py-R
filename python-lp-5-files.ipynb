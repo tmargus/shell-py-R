{
 "metadata": {
  "name": "",
  "signature": "sha256:2f5f1ee3f584c45bd66c200a7b590cc1325006be82eca2dad2d41ca956ecde8e"
 },
 "nbformat": 3,
 "nbformat_minor": 0,
 "worksheets": [
  {
   "cells": [
    {
     "cell_type": "heading",
     "level": 3,
     "metadata": {},
     "source": [
      "Failide avamine, lugemine ja sulgemine"
     ]
    },
    {
     "cell_type": "code",
     "collapsed": false,
     "input": [
      "# Open a file\n",
      "FILE = open(\"proov.txt\", \"wt\")\n",
      "print (\"Name of the file: \", FILE.name)\n",
      "print (\"Closed or not : \", FILE.closed)\n",
      "print (\"Opening mode : \", FILE.mode)\n",
      "\n",
      "\n",
      "# close file\n",
      "FILE.close()"
     ],
     "language": "python",
     "metadata": {},
     "outputs": [
      {
       "output_type": "stream",
       "stream": "stdout",
       "text": [
        "Name of the file:  proov.txt\n",
        "Closed or not :  False\n",
        "Opening mode :  wt\n"
       ]
      }
     ],
     "prompt_number": 1
    },
    {
     "cell_type": "code",
     "collapsed": false,
     "input": [
      "# wrtie to file\n",
      "# kirjutame faili 2 rida\n",
      "FILE = open(\"proov.txt\", \"wt\")\n",
      "FILE.write( \"1. Python is a great language!!\\n\");\n",
      "FILE.write( \"2. Teine rida\\n\");\n",
      "FILE.close()"
     ],
     "language": "python",
     "metadata": {},
     "outputs": [],
     "prompt_number": 2
    },
    {
     "cell_type": "markdown",
     "metadata": {},
     "source": [
      "**Faili sisu rida-realt lugemine** -- **`.readline()`**"
     ]
    },
    {
     "cell_type": "code",
     "collapsed": false,
     "input": [
      "FILE = open(\"proov.txt\")\n",
      "FILE.readline()"
     ],
     "language": "python",
     "metadata": {},
     "outputs": [
      {
       "metadata": {},
       "output_type": "pyout",
       "prompt_number": 3,
       "text": [
        "'1. Python is a great language!!\\n'"
       ]
      }
     ],
     "prompt_number": 3
    },
    {
     "cell_type": "code",
     "collapsed": false,
     "input": [
      "FILE.readline()"
     ],
     "language": "python",
     "metadata": {},
     "outputs": [
      {
       "metadata": {},
       "output_type": "pyout",
       "prompt_number": 4,
       "text": [
        "'2. Teine rida\\n'"
       ]
      }
     ],
     "prompt_number": 4
    },
    {
     "cell_type": "code",
     "collapsed": false,
     "input": [
      "FILE.readline()"
     ],
     "language": "python",
     "metadata": {},
     "outputs": [
      {
       "metadata": {},
       "output_type": "pyout",
       "prompt_number": 5,
       "text": [
        "''"
       ]
      }
     ],
     "prompt_number": 5
    },
    {
     "cell_type": "code",
     "collapsed": false,
     "input": [
      "FILE.close()"
     ],
     "language": "python",
     "metadata": {},
     "outputs": [],
     "prompt_number": 7
    },
    {
     "cell_type": "heading",
     "level": 3,
     "metadata": {},
     "source": [
      "**`with`** kasutamine faili avamiseks ja automaatseks sulgemiseks"
     ]
    },
    {
     "cell_type": "markdown",
     "metadata": {},
     "source": [
      "**`with open(filename, arg) as file:\n",
      "    do something with a file` **"
     ]
    },
    {
     "cell_type": "markdown",
     "metadata": {},
     "source": [
      "**`with`** statement -- **2 in 1**:\n"
     ]
    },
    {
     "cell_type": "markdown",
     "metadata": {},
     "source": [
      "****"
     ]
    },
    {
     "cell_type": "heading",
     "level": 3,
     "metadata": {},
     "source": [
      "Luubid - While"
     ]
    },
    {
     "cell_type": "heading",
     "level": 4,
     "metadata": {},
     "source": [
      "While luup ja failist lugemine"
     ]
    },
    {
     "cell_type": "markdown",
     "metadata": {},
     "source": [
      "**`.readline() & .readlines()`**   \n",
      "... mis neil vahet on?\n",
      "\n",
      "Kas oskad arvata, miks on siin igale reale vahele \u00fcks t\u00fchi rida?"
     ]
    },
    {
     "cell_type": "code",
     "collapsed": false,
     "input": [
      "with open('seq1.fa') as file:\n",
      "    line = file.readline()  # esimene rida\n",
      "    while line:\n",
      "        print (line)        # rida esitatakse\n",
      "        line = file.readline()  # j\u00e4rgmine rida\n",
      "        # NB! kui j\u00e4rgmise rea j\u00e4tad sisse lugemata, j\u00e4\u00e4b \n",
      "        # while igavesse ts\u00fcklisse"
     ],
     "language": "python",
     "metadata": {},
     "outputs": [
      {
       "output_type": "stream",
       "stream": "stdout",
       "text": [
        ">gi|1114567|gb|NC_00245\n",
        "\n",
        "ATATAGGCGCTTGGTGCGCGGCGGGCGC\n",
        "\n",
        "GGCTAGCAGCACCTTTAGTAGCTTTCAT\n",
        "\n",
        "CATCTATCATCTATCATCTACTCA\n",
        "\n"
       ]
      }
     ],
     "prompt_number": 8
    },
    {
     "cell_type": "markdown",
     "metadata": {},
     "source": [
      "Millisesse andmestruktuuri on n\u00fc\u00fcd fail pakitud?\n",
      "\n",
      "Mida teeb siin **`\\n`?**"
     ]
    },
    {
     "cell_type": "code",
     "collapsed": false,
     "input": [
      "with open('seq1.fa') as file:\n",
      "    line = file.readlines()\n",
      "    while line:\n",
      "        print (line)\n",
      "        line = file.readlines()"
     ],
     "language": "python",
     "metadata": {},
     "outputs": [
      {
       "output_type": "stream",
       "stream": "stdout",
       "text": [
        "['>gi|1114567|gb|NC_00245\\n', 'ATATAGGCGCTTGGTGCGCGGCGGGCGC\\n', 'GGCTAGCAGCACCTTTAGTAGCTTTCAT\\n', 'CATCTATCATCTATCATCTACTCA\\n']\n"
       ]
      }
     ],
     "prompt_number": 9
    },
    {
     "cell_type": "code",
     "collapsed": false,
     "input": [
      "with open('seq1.fa') as file:\n",
      "    line = file.readline()\n",
      "    while line:\n",
      "        print (line[:-1]) # line[:-1]  -1 viimane s\u00fcmbol j\u00e4\u00e4b v\u00e4lja e. reavahetust ei v\u00f5eta kaasa.\n",
      "        line = file.readline()"
     ],
     "language": "python",
     "metadata": {},
     "outputs": [
      {
       "output_type": "stream",
       "stream": "stdout",
       "text": [
        ">gi|1114567|gb|NC_00245\n",
        "ATATAGGCGCTTGGTGCGCGGCGGGCGC\n",
        "GGCTAGCAGCACCTTTAGTAGCTTTCAT\n",
        "CATCTATCATCTATCATCTACTCA\n"
       ]
      }
     ],
     "prompt_number": 10
    },
    {
     "cell_type": "heading",
     "level": 3,
     "metadata": {},
     "source": [
      "Iteratsioonid  - For"
     ]
    },
    {
     "cell_type": "markdown",
     "metadata": {},
     "source": [
      "**for** s\u00fcntaksi \u00fcldkuju on \n",
      "\n",
      "**`for item in collection:\n",
      "        do something`**\n",
      "        \n",
      "K\u00f5ike, mis tuleb peale **\"`in'i`\"** k\u00e4sitletakse kui kollektsiooni"
     ]
    },
    {
     "cell_type": "code",
     "collapsed": false,
     "input": [
      "with open('seq1.fa') as file:\n",
      "    for line in file:\n",
      "        print (line[:-1])"
     ],
     "language": "python",
     "metadata": {},
     "outputs": [
      {
       "output_type": "stream",
       "stream": "stdout",
       "text": [
        ">gi|1114567|gb|NC_00245\n",
        "ATATAGGCGCTTGGTGCGCGGCGGGCGC\n",
        "GGCTAGCAGCACCTTTAGTAGCTTTCAT\n",
        "CATCTATCATCTATCATCTACTCA\n"
       ]
      }
     ],
     "prompt_number": 11
    },
    {
     "cell_type": "code",
     "collapsed": false,
     "input": [
      "FILE = open(\"proov.txt\")\n",
      "FILE.readlines()"
     ],
     "language": "python",
     "metadata": {},
     "outputs": [
      {
       "metadata": {},
       "output_type": "pyout",
       "prompt_number": 12,
       "text": [
        "['1. Python is a great language!!\\n', '2. Teine rida\\n']"
       ]
      }
     ],
     "prompt_number": 12
    },
    {
     "cell_type": "code",
     "collapsed": false,
     "input": [
      "with open('seq1.fa') as file:\n",
      "    lines = file.readlines()\n",
      "    while lines:\n",
      "        print (lines)\n",
      "        #loetakse sisse faili l\u00f5pp e t\u00fchi rida\n",
      "        lines = file.readlines()"
     ],
     "language": "python",
     "metadata": {},
     "outputs": [
      {
       "output_type": "stream",
       "stream": "stdout",
       "text": [
        "['>gi|1114567|gb|NC_00245\\n', 'ATATAGGCGCTTGGTGCGCGGCGGGCGC\\n', 'GGCTAGCAGCACCTTTAGTAGCTTTCAT\\n', 'CATCTATCATCTATCATCTACTCA\\n']\n"
       ]
      }
     ],
     "prompt_number": 21
    },
    {
     "cell_type": "code",
     "collapsed": false,
     "input": [
      "with open('seq1.fa') as file:\n",
      "    for line in file.readlines():\n",
      "        print (line[:-1])"
     ],
     "language": "python",
     "metadata": {},
     "outputs": [
      {
       "output_type": "stream",
       "stream": "stdout",
       "text": [
        ">gi|1114567|gb|NC_00245\n",
        "ATATAGGCGCTTGGTGCGCGGCGGGCGC\n",
        "GGCTAGCAGCACCTTTAGTAGCTTTCAT\n",
        "CATCTATCATCTATCATCTACTCA\n"
       ]
      }
     ],
     "prompt_number": 25
    },
    {
     "cell_type": "code",
     "collapsed": false,
     "input": [
      "#[print(item) for item in list1]\n",
      "with open('seq1.fa') as file:\n",
      "    [print(line[:-1]) for line in file]"
     ],
     "language": "python",
     "metadata": {},
     "outputs": [
      {
       "output_type": "stream",
       "stream": "stdout",
       "text": [
        ">gi|1114567|gb|NC_00245\n",
        "ATATAGGCGCTTGGTGCGCGGCGGGCGC\n",
        "GGCTAGCAGCACCTTTAGTAGCTTTCAT\n",
        "CATCTATCATCTATCATCTACTCA\n"
       ]
      }
     ],
     "prompt_number": 35
    },
    {
     "cell_type": "heading",
     "level": 3,
     "metadata": {},
     "source": [
      "Tabelid"
     ]
    }
   ],
   "metadata": {}
  }
 ]
}