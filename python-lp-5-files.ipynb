{
 "metadata": {
  "name": "",
  "signature": "sha256:b0109277076041fcc0737f2a614d34698ed828be6c6d0ac6179fd8cedd9afe13"
 },
 "nbformat": 3,
 "nbformat_minor": 0,
 "worksheets": [
  {
   "cells": [
    {
     "cell_type": "heading",
     "level": 3,
     "metadata": {},
     "source": [
      "Failide avamine, lugemine ja sulgemine"
     ]
    },
    {
     "cell_type": "code",
     "collapsed": false,
     "input": [
      "# Open a file\n",
      "FILE = open(\"proov.txt\", \"rt\")\n",
      "print (\"Name of the file: \", FILE.name)\n",
      "print (\"Closed or not : \", FILE.closed)\n",
      "print (\"Opening mode : \", FILE.mode)\n",
      "\n",
      "\n",
      "# close file\n",
      "FILE.close()"
     ],
     "language": "python",
     "metadata": {},
     "outputs": [
      {
       "output_type": "stream",
       "stream": "stdout",
       "text": [
        "Name of the file:  proov.txt\n",
        "Closed or not :  False\n",
        "Opening mode :  rt\n"
       ]
      }
     ],
     "prompt_number": 1
    },
    {
     "cell_type": "code",
     "collapsed": false,
     "input": [
      "# wrtie to file\n",
      "FILE = open(\"proov.txt\", \"wt\")\n",
      "FILE.write( \"1. Python is a great language!!\\n\");\n",
      "FILE.write( \"2. Teine rida\\n\");\n",
      "FILE.close()"
     ],
     "language": "python",
     "metadata": {},
     "outputs": [],
     "prompt_number": 2
    },
    {
     "cell_type": "markdown",
     "metadata": {},
     "source": [
      "**Faili sisu rida-realt lugemine** -- **`.readline()`**"
     ]
    },
    {
     "cell_type": "code",
     "collapsed": false,
     "input": [
      "FILE = open(\"proov.txt\")\n",
      "FILE.readline()"
     ],
     "language": "python",
     "metadata": {},
     "outputs": [
      {
       "metadata": {},
       "output_type": "pyout",
       "prompt_number": 3,
       "text": [
        "'1. Python is a great language!!\\n'"
       ]
      }
     ],
     "prompt_number": 3
    },
    {
     "cell_type": "code",
     "collapsed": false,
     "input": [
      "FILE.readline()"
     ],
     "language": "python",
     "metadata": {},
     "outputs": [
      {
       "metadata": {},
       "output_type": "pyout",
       "prompt_number": 4,
       "text": [
        "'2. Teine rida\\n'"
       ]
      }
     ],
     "prompt_number": 4
    },
    {
     "cell_type": "code",
     "collapsed": false,
     "input": [
      "FILE.readline()"
     ],
     "language": "python",
     "metadata": {},
     "outputs": [
      {
       "metadata": {},
       "output_type": "pyout",
       "prompt_number": 5,
       "text": [
        "''"
       ]
      }
     ],
     "prompt_number": 5
    },
    {
     "cell_type": "code",
     "collapsed": false,
     "input": [
      "FILE.close()"
     ],
     "language": "python",
     "metadata": {},
     "outputs": [],
     "prompt_number": 9
    },
    {
     "cell_type": "heading",
     "level": 3,
     "metadata": {},
     "source": [
      "**`with`** kasutamine faili avamiseks ja automaatseks sulgemiseks"
     ]
    },
    {
     "cell_type": "markdown",
     "metadata": {},
     "source": [
      "**`with open(filename, arg) as file:\n",
      "    do something with a file` **"
     ]
    },
    {
     "cell_type": "markdown",
     "metadata": {},
     "source": [
      "**`with`** statement -- **2 in 1**:\n"
     ]
    },
    {
     "cell_type": "heading",
     "level": 3,
     "metadata": {},
     "source": [
      "Luubid - While"
     ]
    },
    {
     "cell_type": "heading",
     "level": 4,
     "metadata": {},
     "source": [
      "While luup ja failist lugemine"
     ]
    },
    {
     "cell_type": "markdown",
     "metadata": {},
     "source": [
      "**`.readline() & .readlines()`**   \n",
      "... mis neil vahet on?\n",
      "\n",
      "Kas oskad arvata, miks on siin igale reale vahele \u00fcks t\u00fchi rida?"
     ]
    },
    {
     "cell_type": "code",
     "collapsed": false,
     "input": [
      "with open('seq1.fa') as file:\n",
      "    line = file.readline()  # esimene rida\n",
      "    while line:\n",
      "        print (line)        # rida esitatakse\n",
      "        line = file.readline()  # j\u00e4rgmine rida\n",
      "        # NB! kui j\u00e4rgmise rea j\u00e4tad sisse lugemata, j\u00e4\u00e4b \n",
      "        # while igavesse ts\u00fcklisse"
     ],
     "language": "python",
     "metadata": {},
     "outputs": [
      {
       "output_type": "stream",
       "stream": "stdout",
       "text": [
        ">gi|1114567|gb|NC_00245\n",
        "\n",
        "ATATAGGCGCTTGGTGCGCGGCGGGCGC\n",
        "\n",
        "GGCTAGCAGCACCTTTAGTAGCTTTCAT\n",
        "\n",
        "CATCTATCATCTATCATCTACTCA\n",
        "\n"
       ]
      }
     ],
     "prompt_number": 4
    },
    {
     "cell_type": "markdown",
     "metadata": {},
     "source": [
      "Millisesse andmestruktuuri on n\u00fc\u00fcd fail pakitud?\n",
      "\n",
      "Mida teeb siin **`\\n`?**"
     ]
    },
    {
     "cell_type": "code",
     "collapsed": false,
     "input": [
      "with open('seq1.fa') as file:\n",
      "    line = file.readlines()\n",
      "    while line:\n",
      "        print (line)\n",
      "        line = file.readlines()"
     ],
     "language": "python",
     "metadata": {},
     "outputs": [
      {
       "output_type": "stream",
       "stream": "stdout",
       "text": [
        "['>gi|1114567|gb|NC_00245\\n', 'ATATAGGCGCTTGGTGCGCGGCGGGCGC\\n', 'GGCTAGCAGCACCTTTAGTAGCTTTCAT\\n', 'CATCTATCATCTATCATCTACTCA\\n']\n"
       ]
      }
     ],
     "prompt_number": 5
    },
    {
     "cell_type": "code",
     "collapsed": false,
     "input": [
      "with open('seq1.fa') as file:\n",
      "    line = file.readline()\n",
      "    while line:\n",
      "        print (line[:-1]) # line[:-1]  -1 viimane s\u00fcmbol j\u00e4\u00e4b v\u00e4lja e. reavahetust ei v\u00f5eta kaasa.\n",
      "        line = file.readline()"
     ],
     "language": "python",
     "metadata": {},
     "outputs": [
      {
       "output_type": "stream",
       "stream": "stdout",
       "text": [
        ">gi|1114567|gb|NC_00245\n",
        "ATATAGGCGCTTGGTGCGCGGCGGGCGC\n",
        "GGCTAGCAGCACCTTTAGTAGCTTTCAT\n",
        "CATCTATCATCTATCATCTACTCA\n"
       ]
      }
     ],
     "prompt_number": 3
    },
    {
     "cell_type": "heading",
     "level": 3,
     "metadata": {},
     "source": [
      "Luubid  - For"
     ]
    },
    {
     "cell_type": "markdown",
     "metadata": {},
     "source": [
      "*For* luubi kasutamine on mitmeski m\u00f5ttes eelistatum oma selguse t\u00f5ttu"
     ]
    },
    {
     "cell_type": "code",
     "collapsed": false,
     "input": [
      "with open('seq1.fa') as file:\n",
      "    for line in file:\n",
      "        print (line[:-1])"
     ],
     "language": "python",
     "metadata": {},
     "outputs": [
      {
       "output_type": "stream",
       "stream": "stdout",
       "text": [
        ">gi|1114567|gb|NC_00245\n",
        "ATATAGGCGCTTGGTGCGCGGCGGGCGC\n",
        "GGCTAGCAGCACCTTTAGTAGCTTTCAT\n",
        "CATCTATCATCTATCATCTACTCA\n"
       ]
      }
     ],
     "prompt_number": 2
    }
   ],
   "metadata": {}
  }
 ]
}