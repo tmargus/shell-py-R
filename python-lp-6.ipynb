{
 "metadata": {
  "name": "",
  "signature": "sha256:6d4bcc6e3cddc4b00e2fd9b90f7ad2efccbfab4cd0397bf4ae96396670af91c1"
 },
 "nbformat": 3,
 "nbformat_minor": 0,
 "worksheets": [
  {
   "cells": [
    {
     "cell_type": "heading",
     "level": 3,
     "metadata": {},
     "source": [
      "While  Luubi n\u00e4iteid"
     ]
    },
    {
     "cell_type": "heading",
     "level": 5,
     "metadata": {},
     "source": [
      "while koos guardian tingimusega. See osutub l\u00f5puks kindlasti valeks."
     ]
    },
    {
     "cell_type": "code",
     "collapsed": false,
     "input": [
      "count =0\n",
      "while count < 3:\n",
      "    count +=1\n",
      "    print (\"Luubin:\", count)\n",
      "else: \n",
      "    print (\"kontroll statement osutus valeks\")\n",
      "print(\"... ja nii see l\u00f5ppes...\")"
     ],
     "language": "python",
     "metadata": {},
     "outputs": [
      {
       "output_type": "stream",
       "stream": "stdout",
       "text": [
        "Luubin: 1\n",
        "Luubin: 2\n",
        "Luubin: 3\n",
        "kontroll statement osutus valeks\n",
        "... ja nii see l\u00f5ppes...\n"
       ]
      }
     ],
     "prompt_number": 1
    },
    {
     "cell_type": "heading",
     "level": 5,
     "metadata": {},
     "source": [
      "Luubid - echo - n\u00e4ide 1 *(based on Mitchell L, 2010)*"
     ]
    },
    {
     "cell_type": "code",
     "collapsed": false,
     "input": [
      "def echo1():\n",
      "    \"\"\"Prompt the user for a string, \"echo\" it, and return it\"\"\"\n",
      "    line = input('\u00dctle midagi: ')\n",
      "    # line = raw_input('\u00dctle midagi: ') # python2\n",
      "    print ('Sa \u00fctlesid' , line)\n",
      "    return line"
     ],
     "language": "python",
     "metadata": {},
     "outputs": [],
     "prompt_number": 2
    },
    {
     "cell_type": "code",
     "collapsed": false,
     "input": [
      "def echo():\n",
      "    \"\"\"Echo the user's input until an empty line is entered\"\"\"\n",
      "    # t\u00f5ene kui \"line\" echo1() pole t\u00fchi \n",
      "    while echo1():\n",
      "        # pass ei tee midagi\n",
      "        pass"
     ],
     "language": "python",
     "metadata": {},
     "outputs": [],
     "prompt_number": 3
    },
    {
     "cell_type": "code",
     "collapsed": false,
     "input": [
      "echo()"
     ],
     "language": "python",
     "metadata": {},
     "outputs": [
      {
       "name": "stdout",
       "output_type": "stream",
       "stream": "stdout",
       "text": [
        "\u00dctle midagi: T\u00e4na on ilus p\u00e4ev\n"
       ]
      },
      {
       "output_type": "stream",
       "stream": "stdout",
       "text": [
        "Sa \u00fctlesid T\u00e4na on ilus p\u00e4ev\n"
       ]
      },
      {
       "name": "stdout",
       "output_type": "stream",
       "stream": "stdout",
       "text": [
        "\u00dctle midagi: homme sajab vihma\n"
       ]
      },
      {
       "output_type": "stream",
       "stream": "stdout",
       "text": [
        "Sa \u00fctlesid homme sajab vihma\n"
       ]
      },
      {
       "name": "stdout",
       "output_type": "stream",
       "stream": "stdout",
       "text": [
        "\u00dctle midagi: \n"
       ]
      },
      {
       "output_type": "stream",
       "stream": "stdout",
       "text": [
        "Sa \u00fctlesid \n"
       ]
      }
     ],
     "prompt_number": 4
    },
    {
     "cell_type": "heading",
     "level": 5,
     "metadata": {},
     "source": [
      "Salvestav luup while"
     ]
    },
    {
     "cell_type": "code",
     "collapsed": false,
     "input": [
      "def recording_echo():\n",
      "    \"\"\"Salvestab sisestatud teksti kuni m\u00e4rks\u00f5nani \"bye\".\n",
      "    S\u00f5nad, laused talletatakse mutujasse lst.\n",
      "    \"\"\"\n",
      "    # 2 asja mis peavad enne while loopi sisenemist v\u00e4\u00e4rtust omama\n",
      "    lst=[]\n",
      "    entry=echo1()\n",
      "    while entry != 'bye':\n",
      "        lst.append(entry)\n",
      "        entry = echo1()\n",
      "    return lst"
     ],
     "language": "python",
     "metadata": {},
     "outputs": [],
     "prompt_number": 5
    },
    {
     "cell_type": "code",
     "collapsed": false,
     "input": [
      "recording_echo()"
     ],
     "language": "python",
     "metadata": {},
     "outputs": [
      {
       "name": "stdout",
       "output_type": "stream",
       "stream": "stdout",
       "text": [
        "\u00dctle midagi: T\u00e4na on ilus p\u00e4ev\n"
       ]
      },
      {
       "output_type": "stream",
       "stream": "stdout",
       "text": [
        "Sa \u00fctlesid T\u00e4na on ilus p\u00e4ev\n"
       ]
      },
      {
       "name": "stdout",
       "output_type": "stream",
       "stream": "stdout",
       "text": [
        "\u00dctle midagi: Homme tuleb ka ilus p\u00e4ev\n"
       ]
      },
      {
       "output_type": "stream",
       "stream": "stdout",
       "text": [
        "Sa \u00fctlesid Homme tuleb ka ilus p\u00e4ev\n"
       ]
      },
      {
       "name": "stdout",
       "output_type": "stream",
       "stream": "stdout",
       "text": [
        "\u00dctle midagi: bye\n"
       ]
      },
      {
       "output_type": "stream",
       "stream": "stdout",
       "text": [
        "Sa \u00fctlesid bye\n"
       ]
      },
      {
       "metadata": {},
       "output_type": "pyout",
       "prompt_number": 7,
       "text": [
        "['T\u00e4na on ilus p\u00e4ev', 'Homme tuleb ka ilus p\u00e4ev']"
       ]
      }
     ],
     "prompt_number": 7
    },
    {
     "cell_type": "heading",
     "level": 5,
     "metadata": {},
     "source": [
      "While Loop forewer "
     ]
    },
    {
     "cell_type": "code",
     "collapsed": false,
     "input": [
      "def while_4_ever():\n",
      "    count=0\n",
      "    while True:\n",
      "        count +=1\n",
      "        # 10**8 on juba tuntav aeg\n",
      "        if count == 10**2:\n",
      "            return count"
     ],
     "language": "python",
     "metadata": {},
     "outputs": [],
     "prompt_number": 8
    },
    {
     "cell_type": "code",
     "collapsed": false,
     "input": [
      "while_4_ever()"
     ],
     "language": "python",
     "metadata": {},
     "outputs": [
      {
       "metadata": {},
       "output_type": "pyout",
       "prompt_number": 9,
       "text": [
        "100"
       ]
      }
     ],
     "prompt_number": 9
    },
    {
     "cell_type": "heading",
     "level": 3,
     "metadata": {},
     "source": [
      "Iteratsioonid - FOR"
     ]
    },
    {
     "cell_type": "markdown",
     "metadata": {},
     "source": [
      "**Iteratsioonide** kasutamine on mitmeski m\u00f5ttes eelistatum *luupidele* eelk\u00f5ige oma s\u00fcntaksi selguse t\u00f5ttu. Neis tehakse ka v\u00e4hem vigu. \n",
      "\n",
      "**for** s\u00fcntaksi \u00fcldkuju on \n",
      "\n",
      "**`for item in collection:\n",
      "        do something`**\n",
      "        \n",
      "Seet\u00f5ttu \u00fcksk\u00f5ik, mis tuleb peale **\"`in'i`\"** k\u00e4sitletakse kui kollektsiooni"
     ]
    },
    {
     "cell_type": "heading",
     "level": 5,
     "metadata": {},
     "source": [
      "FOR - do"
     ]
    },
    {
     "cell_type": "code",
     "collapsed": false,
     "input": [
      "t_dinucleotides = ['TT','TC','TA','TG','CT','AT','GT']\n",
      "\n",
      "for item in t_dinucleotides:\n",
      "    print(item)"
     ],
     "language": "python",
     "metadata": {},
     "outputs": [
      {
       "output_type": "stream",
       "stream": "stdout",
       "text": [
        "TT\n",
        "TC\n",
        "TA\n",
        "TG\n",
        "CT\n",
        "AT\n",
        "GT\n"
       ]
      }
     ],
     "prompt_number": 11
    },
    {
     "cell_type": "code",
     "collapsed": false,
     "input": [
      "def print_collection(collection):\n",
      "    for item in collection:\n",
      "        print(item)"
     ],
     "language": "python",
     "metadata": {},
     "outputs": [],
     "prompt_number": 12
    },
    {
     "cell_type": "code",
     "collapsed": false,
     "input": [
      "t_dinucleotides = ['TT','TC','TA','TG','CT','AT','GT']\n",
      "print(t_dinucleotides)"
     ],
     "language": "python",
     "metadata": {},
     "outputs": [
      {
       "output_type": "stream",
       "stream": "stdout",
       "text": [
        "['TT', 'TC', 'TA', 'TG', 'CT', 'AT', 'GT']\n"
       ]
      }
     ],
     "prompt_number": 16
    },
    {
     "cell_type": "markdown",
     "metadata": {},
     "source": [
      "FOR - Collect"
     ]
    },
    {
     "cell_type": "markdown",
     "metadata": {},
     "source": [
      "N\u00e4ite: FastA faili lugemine - *iteratsioon*: "
     ]
    },
    {
     "cell_type": "code",
     "collapsed": false,
     "input": [
      "# Example 4-12 from \"Bioinformatics Programming Using Python\" by Michell LM 2010\n",
      "def read_FastA_iteration(filename):\n",
      "    sequences = []\n",
      "    descr = None\n",
      "    with open(filename) as file:\n",
      "        for line in file:\n",
      "            if line[0] == '>':\n",
      "                if descr:\n",
      "                    sequences.append((descr, seq))\n",
      "                descr = line[1:-1].split('|')\n",
      "                seq = ''\n",
      "            else:\n",
      "                seq += line[:-1]\n",
      "        sequences.append((descr, seq))\n",
      "    return sequences"
     ],
     "language": "python",
     "metadata": {},
     "outputs": []
    },
    {
     "cell_type": "heading",
     "level": 5,
     "metadata": {},
     "source": [
      "FOR - Combine"
     ]
    },
    {
     "cell_type": "markdown",
     "metadata": {},
     "source": [
      "**Leia pikeim s\u00f5na **"
     ]
    },
    {
     "cell_type": "code",
     "collapsed": false,
     "input": [
      "def pikim_sona(sonade_list):\n",
      "    pikim = ''\n",
      "    for sona in sonade_list:\n",
      "        pikim=max(pikim, sona, key=len)\n",
      "    return pikim"
     ],
     "language": "python",
     "metadata": {},
     "outputs": [],
     "prompt_number": 17
    },
    {
     "cell_type": "code",
     "collapsed": false,
     "input": [
      "sonad='Meie kiisul kriimud silmad'.split()\n",
      "pikim_sona(sonad)"
     ],
     "language": "python",
     "metadata": {},
     "outputs": [
      {
       "metadata": {},
       "output_type": "pyout",
       "prompt_number": 18,
       "text": [
        "'kriimud'"
       ]
      }
     ],
     "prompt_number": 18
    },
    {
     "cell_type": "markdown",
     "metadata": {},
     "source": [
      "Kas oskad sama n\u00e4idist kasutades selle \u00fcmber kirjutada pikima j\u00e4rjestuse leidmiseks.  Proovi ka nii kui j\u00e4rjestused loetakse failist kasutades eelppol toodud funktsiooni \n",
      "**`read_FastA_iteration(filename)`**"
     ]
    },
    {
     "cell_type": "heading",
     "level": 5,
     "metadata": {},
     "source": [
      "FOR - Rekursiivne iteratsioon"
     ]
    },
    {
     "cell_type": "heading",
     "level": 5,
     "metadata": {},
     "source": [
      "For ts\u00fckli kasutamine di-nukleotiidi kombinatsiooonide genereerimiseks"
     ]
    },
    {
     "cell_type": "code",
     "collapsed": false,
     "input": [
      "# Kontrolli kuidas see kood t\u00f6\u00f6tab\n",
      "# \n",
      "bases = ['T', 'C', 'A', 'G']\n",
      "dinucleotides =[]\n",
      "for a in bases:\n",
      "    for b in bases:\n",
      "        dinucleotides.append(a+b)\n",
      "\n",
      "print_collection(dinucleotides)"
     ],
     "language": "python",
     "metadata": {},
     "outputs": [
      {
       "output_type": "stream",
       "stream": "stdout",
       "text": [
        "TT\n",
        "TC\n",
        "TA\n",
        "TG\n",
        "CT\n",
        "CC\n",
        "CA\n",
        "CG\n",
        "AT\n",
        "AC\n",
        "AA\n",
        "AG\n",
        "GT\n",
        "GC\n",
        "GA\n",
        "GG\n"
       ]
      }
     ],
     "prompt_number": 21
    },
    {
     "cell_type": "heading",
     "level": 5,
     "metadata": {},
     "source": [
      "Koodi transleerimine kuni stopini"
     ]
    },
    {
     "cell_type": "code",
     "collapsed": false,
     "input": [
      "# NEET trick from Peters blog http://www.petercollingridge.co.uk/python-tricks/list-comprehensions\n",
      "bases = ['T', 'C', 'A', 'G']\n",
      "codons = [a+b+c for a in bases for b in bases for c in bases]\n",
      "amino_acids = 'FFLLSSSSYY**CC*WLLLLPPPPHHQQRRRRIIIMTTTTNNKKSSRRVVVVAAAADDEEGGGG'\n",
      "codon_table = dict(zip(codons, amino_acids))"
     ],
     "language": "python",
     "metadata": {},
     "outputs": [],
     "prompt_number": 37
    },
    {
     "cell_type": "code",
     "collapsed": false,
     "input": [
      "bases = ['T', 'C', 'A', 'G']\n",
      "dinucleotides =[]\n",
      "for a in bases:\n",
      "    for b in bases:\n",
      "        dinucleotides.append(a+b)\n",
      "dinucleotides"
     ],
     "language": "python",
     "metadata": {},
     "outputs": [
      {
       "metadata": {},
       "output_type": "pyout",
       "prompt_number": 1,
       "text": [
        "['TT',\n",
        " 'TC',\n",
        " 'TA',\n",
        " 'TG',\n",
        " 'CT',\n",
        " 'CC',\n",
        " 'CA',\n",
        " 'CG',\n",
        " 'AT',\n",
        " 'AC',\n",
        " 'AA',\n",
        " 'AG',\n",
        " 'GT',\n",
        " 'GC',\n",
        " 'GA',\n",
        " 'GG']"
       ]
      }
     ],
     "prompt_number": 1
    }
   ],
   "metadata": {}
  }
 ]
}